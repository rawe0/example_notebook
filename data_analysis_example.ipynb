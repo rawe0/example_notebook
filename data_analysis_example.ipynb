{
 "cells": [
  {
   "cell_type": "markdown",
   "id": "e9a3631c",
   "metadata": {},
   "source": [
    "# Data Analysis Example\n",
    "\n",
    "This notebook demonstrates basic data analysis techniques using a simple employee dataset. We'll explore the data, generate statistics, and create visualizations."
   ]
  },
  {
   "cell_type": "markdown",
   "id": "942a66f1",
   "metadata": {},
   "source": [
    "## 1. Import Required Libraries\n",
    "\n",
    "Import pandas, matplotlib, and other necessary libraries for data analysis."
   ]
  },
  {
   "cell_type": "code",
   "execution_count": null,
   "id": "5b8d3abb",
   "metadata": {},
   "outputs": [],
   "source": [
    "import pandas as pd\n",
    "import matplotlib.pyplot as plt\n",
    "import seaborn as sns\n",
    "import numpy as np\n",
    "\n",
    "# Set up matplotlib for inline plotting\n",
    "%matplotlib inline\n",
    "\n",
    "# Set style for better looking plots\n",
    "plt.style.use('default')\n",
    "sns.set_palette(\"husl\")"
   ]
  },
  {
   "cell_type": "markdown",
   "id": "bc58892e",
   "metadata": {},
   "source": [
    "## 2. Load the CSV Dataset\n",
    "\n",
    "Use pandas to read the CSV file and load it into a DataFrame."
   ]
  },
  {
   "cell_type": "code",
   "execution_count": null,
   "id": "f738cf22",
   "metadata": {},
   "outputs": [],
   "source": [
    "# Load the CSV file\n",
    "df = pd.read_csv('sample_data.csv')\n",
    "\n",
    "print(\"Dataset loaded successfully!\")\n",
    "print(f\"Dataset shape: {df.shape}\")\n",
    "print(f\"Columns: {list(df.columns)}\")"
   ]
  },
  {
   "cell_type": "markdown",
   "id": "d66659d6",
   "metadata": {},
   "source": [
    "## 3. Explore Dataset Structure\n",
    "\n",
    "Display the first few rows, column names, data types, and shape of the dataset."
   ]
  },
  {
   "cell_type": "code",
   "execution_count": null,
   "id": "55077924",
   "metadata": {},
   "outputs": [],
   "source": [
    "# Display first 5 rows\n",
    "print(\"First 5 rows of the dataset:\")\n",
    "print(df.head())\n",
    "\n",
    "print(\"\\n\" + \"=\"*50 + \"\\n\")\n",
    "\n",
    "# Display basic information about the dataset\n",
    "print(\"Dataset information:\")\n",
    "print(df.info())\n",
    "\n",
    "print(\"\\n\" + \"=\"*50 + \"\\n\")\n",
    "\n",
    "# Check for missing values\n",
    "print(\"Missing values per column:\")\n",
    "print(df.isnull().sum())"
   ]
  },
  {
   "cell_type": "markdown",
   "id": "8dad33b7",
   "metadata": {},
   "source": [
    "## 4. Display Basic Statistics\n",
    "\n",
    "Generate summary statistics using describe() and other methods to understand the data distribution."
   ]
  },
  {
   "cell_type": "code",
   "execution_count": null,
   "id": "b3aadc23",
   "metadata": {},
   "outputs": [],
   "source": [
    "# Summary statistics for numerical columns\n",
    "print(\"Summary statistics for numerical columns:\")\n",
    "print(df.describe())\n",
    "\n",
    "print(\"\\n\" + \"=\"*50 + \"\\n\")\n",
    "\n",
    "# Value counts for categorical columns\n",
    "print(\"Department distribution:\")\n",
    "print(df['Department'].value_counts())\n",
    "\n",
    "print(\"\\n\" + \"=\"*30 + \"\\n\")\n",
    "\n",
    "print(\"City distribution:\")\n",
    "print(df['City'].value_counts())\n",
    "\n",
    "print(\"\\n\" + \"=\"*30 + \"\\n\")\n",
    "\n",
    "# Calculate some additional statistics\n",
    "print(\"Additional statistics:\")\n",
    "print(f\"Average salary: ${df['Salary'].mean():,.2f}\")\n",
    "print(f\"Median salary: ${df['Salary'].median():,.2f}\")\n",
    "print(f\"Average age: {df['Age'].mean():.1f} years\")"
   ]
  },
  {
   "cell_type": "markdown",
   "id": "02aa5279",
   "metadata": {},
   "source": [
    "## 5. Data Visualization\n",
    "\n",
    "Create basic plots such as histograms, scatter plots, and bar charts to visualize the data."
   ]
  },
  {
   "cell_type": "code",
   "execution_count": null,
   "id": "d0137c0d",
   "metadata": {},
   "outputs": [],
   "source": [
    "# Create a figure with multiple subplots\n",
    "fig, axes = plt.subplots(2, 2, figsize=(15, 12))\n",
    "\n",
    "# 1. Histogram of Age distribution\n",
    "axes[0, 0].hist(df['Age'], bins=8, edgecolor='black', alpha=0.7)\n",
    "axes[0, 0].set_title('Age Distribution')\n",
    "axes[0, 0].set_xlabel('Age')\n",
    "axes[0, 0].set_ylabel('Frequency')\n",
    "\n",
    "# 2. Histogram of Salary distribution\n",
    "axes[0, 1].hist(df['Salary'], bins=8, edgecolor='black', alpha=0.7, color='green')\n",
    "axes[0, 1].set_title('Salary Distribution')\n",
    "axes[0, 1].set_xlabel('Salary ($)')\n",
    "axes[0, 1].set_ylabel('Frequency')\n",
    "\n",
    "# 3. Bar chart of Department counts\n",
    "dept_counts = df['Department'].value_counts()\n",
    "axes[1, 0].bar(dept_counts.index, dept_counts.values, color='orange')\n",
    "axes[1, 0].set_title('Number of Employees by Department')\n",
    "axes[1, 0].set_xlabel('Department')\n",
    "axes[1, 0].set_ylabel('Count')\n",
    "axes[1, 0].tick_params(axis='x', rotation=45)\n",
    "\n",
    "# 4. Scatter plot of Age vs Salary\n",
    "axes[1, 1].scatter(df['Age'], df['Salary'], alpha=0.7, color='red')\n",
    "axes[1, 1].set_title('Age vs Salary')\n",
    "axes[1, 1].set_xlabel('Age')\n",
    "axes[1, 1].set_ylabel('Salary ($)')\n",
    "\n",
    "plt.tight_layout()\n",
    "plt.show()"
   ]
  },
  {
   "cell_type": "code",
   "execution_count": null,
   "id": "5ddf40d5",
   "metadata": {},
   "outputs": [],
   "source": [
    "# Box plot showing salary distribution by department\n",
    "plt.figure(figsize=(10, 6))\n",
    "df.boxplot(column='Salary', by='Department', ax=plt.gca())\n",
    "plt.title('Salary Distribution by Department')\n",
    "plt.xlabel('Department')\n",
    "plt.ylabel('Salary ($)')\n",
    "plt.xticks(rotation=45)\n",
    "plt.tight_layout()\n",
    "plt.show()"
   ]
  },
  {
   "cell_type": "markdown",
   "id": "2dd4e554",
   "metadata": {},
   "source": [
    "## 6. Filter and Query Data\n",
    "\n",
    "Demonstrate filtering rows and selecting specific columns based on conditions."
   ]
  },
  {
   "cell_type": "code",
   "execution_count": null,
   "id": "50b23a93",
   "metadata": {},
   "outputs": [],
   "source": [
    "# Filter employees with salary > $75,000\n",
    "high_earners = df[df['Salary'] > 75000]\n",
    "print(\"Employees with salary > $75,000:\")\n",
    "print(high_earners)\n",
    "\n",
    "print(\"\\n\" + \"=\"*50 + \"\\n\")\n",
    "\n",
    "# Filter engineering department employees\n",
    "engineers = df[df['Department'] == 'Engineering']\n",
    "print(\"Engineering department employees:\")\n",
    "print(engineers[['Name', 'Age', 'Salary']])\n",
    "\n",
    "print(\"\\n\" + \"=\"*50 + \"\\n\")\n",
    "\n",
    "# Multiple conditions: Young employees (age < 30) in Marketing\n",
    "young_marketers = df[(df['Age'] < 30) & (df['Department'] == 'Marketing')]\n",
    "print(\"Young employees (age < 30) in Marketing:\")\n",
    "print(young_marketers)\n",
    "\n",
    "print(\"\\n\" + \"=\"*50 + \"\\n\")\n",
    "\n",
    "# Group by department and calculate average salary\n",
    "dept_avg_salary = df.groupby('Department')['Salary'].mean().sort_values(ascending=False)\n",
    "print(\"Average salary by department:\")\n",
    "for dept, avg_sal in dept_avg_salary.items():\n",
    "    print(f\"{dept}: ${avg_sal:,.2f}\")\n",
    "\n",
    "print(\"\\n\" + \"=\"*50 + \"\\n\")\n",
    "\n",
    "# Select specific columns\n",
    "selected_data = df[['Name', 'Department', 'Salary']].sort_values('Salary', ascending=False)\n",
    "print(\"Top 5 highest paid employees:\")\n",
    "print(selected_data.head())"
   ]
  },
  {
   "cell_type": "markdown",
   "id": "001aaa98",
   "metadata": {},
   "source": [
    "## Conclusion\n",
    "\n",
    "This notebook demonstrated basic data analysis techniques including:\n",
    "- Loading CSV data with pandas\n",
    "- Exploring dataset structure and properties\n",
    "- Calculating summary statistics\n",
    "- Creating various types of visualizations\n",
    "- Filtering and querying data with conditions\n",
    "\n",
    "The sample employee dataset shows patterns such as:\n",
    "- Engineering department has the highest average salary\n",
    "- Most employees are between 26-42 years old\n",
    "- Salary ranges from $65,000 to $85,000\n",
    "\n",
    "This foundation can be extended for more complex analyses including correlation analysis, predictive modeling, and advanced visualizations."
   ]
  }
 ],
 "metadata": {
  "language_info": {
   "name": "python"
  }
 },
 "nbformat": 4,
 "nbformat_minor": 5
}
